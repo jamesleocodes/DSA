{
 "cells": [
  {
   "cell_type": "markdown",
   "metadata": {},
   "source": [
    "### 3Sum(no.15 in leedcode`medium` )\n",
    "Given an integer array `nums`, return all the triplets `[nums[i], nums[j], nums[k]]` such that `i != j`, `i != k`, and `j != k`, and `nums[i] + nums[j] + nums[k] == 0`.\n",
    "\n",
    "Notice that the solution set must not contain duplicate triplets."
   ]
  },
  {
   "cell_type": "markdown",
   "metadata": {},
   "source": [
    "### Example 1:\n",
    "```python\n",
    "Input: nums = [-1,0,1,2,-1,-4]  \n",
    "\n",
    "Output:  [[-1,-1,2],[-1,0,1]]  \n",
    "\n",
    "Explanation:\n",
    "nums[0] + nums[1] + nums[2] = (-1) + 0 + 1 = 0.  \n",
    "\n",
    "nums[1] + nums[2] + nums[4] = 0 + 1 + (-1) = 0.  \n",
    "\n",
    "nums[0] + nums[3] + nums[4] = (-1) + 2 + (-1) = 0.  \n",
    "\n",
    "The distinct triplets are [-1,0,1] and [-1,-1,2].  \n",
    "\n",
    "Notice that the order of the output and the order of the triplets does not matter."
   ]
  },
  {
   "cell_type": "markdown",
   "metadata": {},
   "source": [
    "### Example 2:\n",
    "```python\n",
    "Input: nums = [0,1,1]  \n",
    "\n",
    "Output: []  \n",
    "\n",
    "Explanation: The only possible triplet does not sum up to 0."
   ]
  },
  {
   "cell_type": "markdown",
   "metadata": {},
   "source": [
    "### Example 3:\n",
    "```python\n",
    "Input: nums = [0,0,0]  \n",
    "\n",
    "Output: [[0,0,0]]  \n",
    "\n",
    "Explanation: The only possible triplet sums up to 0."
   ]
  },
  {
   "cell_type": "markdown",
   "metadata": {},
   "source": [
    "### Constraints:\n",
    "- `3 <= nums.length <= 3000`\n",
    "- `-10^5 <= nums[i] <= 10^5`"
   ]
  },
  {
   "cell_type": "code",
   "execution_count": 2,
   "metadata": {},
   "outputs": [
    {
     "data": {
      "text/plain": [
       "[[-1, -1, 2], [-1, 0, 1]]"
      ]
     },
     "execution_count": 2,
     "metadata": {},
     "output_type": "execute_result"
    }
   ],
   "source": [
    "def threeSum(nums):\n",
    "    nums.sort()\n",
    "    result = []\n",
    "    \n",
    "    for i in range(len(nums) - 2):# \n",
    "        # Skip duplicates for the first number\n",
    "        if i > 0 and nums[i] == nums[i-1]:\n",
    "            continue\n",
    "            \n",
    "        left = i + 1# second element\n",
    "        right = len(nums) - 1# last element     \n",
    "        \n",
    "        while left < right:# this to make sure the left and right pointers are not pointing to the same element\n",
    "            total = nums[i] + nums[left] + nums[right]# sum of the three elements   \n",
    "            \n",
    "            if total < 0:# if the sum is less than 0, the left pointer is incremented to move to the next element to get larger\n",
    "                left += 1\n",
    "            elif total > 0:# if the sum is greater than 0, the right pointer is decremented to move to the previous element to get smaller\n",
    "                right -= 1\n",
    "            else:\n",
    "                result.append([nums[i], nums[left], nums[right]])# if the sum is 0, the triplet is added to the result list\n",
    "                \n",
    "                # Skip duplicates for the second number\n",
    "                while left < right and nums[left] == nums[left+1]:# if the left pointer is not at the end and the next element is the same as the current element, the left pointer is incremented to move to the next element\n",
    "                    left += 1\n",
    "                # Skip duplicates for the third number\n",
    "                while left < right and nums[right] == nums[right-1]:# if the right pointer is not at the start and the previous element is the same as the current element, the right pointer is decremented to move to the previous element\n",
    "                    right -= 1\n",
    "                    \n",
    "                left += 1\n",
    "                right -= 1\n",
    "                \n",
    "    return result\n",
    "nums = [-1,0,1,2,-1,-4]  \n",
    "threeSum(nums)"
   ]
  }
 ],
 "metadata": {
  "kernelspec": {
   "display_name": "ds",
   "language": "python",
   "name": "python3"
  },
  "language_info": {
   "codemirror_mode": {
    "name": "ipython",
    "version": 3
   },
   "file_extension": ".py",
   "mimetype": "text/x-python",
   "name": "python",
   "nbconvert_exporter": "python",
   "pygments_lexer": "ipython3",
   "version": "3.9.5"
  }
 },
 "nbformat": 4,
 "nbformat_minor": 2
}
