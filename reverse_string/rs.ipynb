{
 "cells": [
  {
   "cell_type": "markdown",
   "id": "bab7c760",
   "metadata": {},
   "source": [
    "### Reverse String(no.344 in leetcode`easy`\n",
    "\n",
    "Write a function that reverses a string. The input string is given as an array of characters s.\n",
    "\n",
    "You must do this by modifying the input array in-place with O(1) extra memory.\n",
    "\n",
    "\n",
    "Example 1:\n",
    "\n",
    "Input: s = [\"h\",\"e\",\"l\",\"l\",\"o\"]\\\n",
    "Output: [\"o\",\"l\",\"l\",\"e\",\"h\"]\n",
    "\n",
    "Example 2:\n",
    "\n",
    "Input: s = [\"H\",\"a\",\"n\",\"n\",\"a\",\"h\"]\\\n",
    "Output: [\"h\",\"a\",\"n\",\"n\",\"a\",\"H\"]\n",
    "\n",
    "Constraints:\n",
    "\n",
    "1 <= s.length <= 105\n",
    "s[i] is a printable ascii character.\n"
   ]
  },
  {
   "cell_type": "markdown",
   "id": "d1cbf15a",
   "metadata": {},
   "source": [
    "#### Problem Statement\n",
    "\n",
    "We are given a string (or character array), and we need to reverse the order of characters in place (i.e., without using extra memory). The function should modify the input rather than return a new string."
   ]
  },
  {
   "cell_type": "markdown",
   "id": "516f2ead",
   "metadata": {},
   "source": [
    "#### Constraints\n",
    "\n",
    "1. In-place Modification – We are not allowed to use extra memory (e.g., another list or string). We must modify the given data structure directly.\n",
    "  \n",
    "2. Time Complexity – Aim for an efficient solution (preferably O(n)). This means we should avoid nested loops.\n",
    "   \n",
    "3. Space Complexity – Since the reversal should happen in-place, extra memory usage should be O(1).\n",
    "   \n",
    "4. Valid Input – Assume the input consists of only characters (letters, numbers, symbols) and is not empty.\n",
    "   "
   ]
  },
  {
   "cell_type": "markdown",
   "id": "071beb42",
   "metadata": {},
   "source": [
    "#### How to approach\n",
    "\n",
    "The best method is Two-Pointer Technique, where you swap characters from both ends of the string until the middle is reached."
   ]
  },
  {
   "cell_type": "code",
   "execution_count": 1,
   "id": "76a3b7dc",
   "metadata": {},
   "outputs": [],
   "source": [
    "# Implementation\n",
    "def reverseString(s):\n",
    "    left, right = 0, len(s) - 1\n",
    "    while left < right:\n",
    "        s[left], s[right] = s[right], s[left]\n",
    "        left += 1\n",
    "        right -= 1"
   ]
  },
  {
   "cell_type": "code",
   "execution_count": 17,
   "id": "b66b84fb",
   "metadata": {},
   "outputs": [
    {
     "name": "stdout",
     "output_type": "stream",
     "text": [
      "['o', 'l', 'l', 'e', 'h']\n"
     ]
    }
   ],
   "source": [
    "s = [\"h\",\"e\",\"l\",\"l\",\"o\"]\n",
    "reverseString(s)\n",
    "print(s)"
   ]
  }
 ],
 "metadata": {
  "kernelspec": {
   "display_name": "ds",
   "language": "python",
   "name": "python3"
  },
  "language_info": {
   "codemirror_mode": {
    "name": "ipython",
    "version": 3
   },
   "file_extension": ".py",
   "mimetype": "text/x-python",
   "name": "python",
   "nbconvert_exporter": "python",
   "pygments_lexer": "ipython3",
   "version": "3.9.5"
  }
 },
 "nbformat": 4,
 "nbformat_minor": 5
}
