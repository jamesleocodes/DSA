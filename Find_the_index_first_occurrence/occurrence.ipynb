{
 "cells": [
  {
   "cell_type": "markdown",
   "metadata": {},
   "source": [
    "### Find the Index of the First Occurrence in a String(no.28 in leedcode`easy` )\n",
    "\n",
    "Given two strings `needle` and `haystack`, return the index of the first occurrence of `needle` in `haystack`, or `-1` if `needle` is not part of `haystack`.\n",
    "\n",
    "#### Example 1:\n",
    "```python\n",
    "Input: haystack = \"sadbutsad\", needle = \"sad\"\n",
    "Output: 0\n",
    "Explanation: \"sad\" occurs at index 0 and 6.\n",
    "The first occurrence is at index 0, so we return 0.\n",
    "\n",
    "#### Example 2:\n",
    "Input: haystack = \"leetcode\", needle = \"leeto\"\n",
    "Output: -1\n",
    "Explanation: \"leeto\" did not occur in \"leetcode\", so we return -1."
   ]
  },
  {
   "cell_type": "markdown",
   "metadata": {},
   "source": [
    "\n",
    "#### Constraints:\n",
    "\n",
    "* `1 <= haystack.length, needle.length <= 10^4` \\\n",
    "This means that both haystack (the main string) and needle (the substring to find) have lengths that are at least 1 character long and at most 10,000 characters long (10^4 = 10,000).\n",
    "\n",
    "* `haystack and needle consist of only lowercase English characters.`"
   ]
  },
  {
   "cell_type": "code",
   "execution_count": 6,
   "metadata": {},
   "outputs": [
    {
     "data": {
      "text/plain": [
       "0"
      ]
     },
     "execution_count": 6,
     "metadata": {},
     "output_type": "execute_result"
    }
   ],
   "source": [
    "def strStr(haystack, needle):\n",
    "  if not needle:\n",
    "    return 0\n",
    "  n = len(haystack)\n",
    "  m = len(needle)\n",
    "  for i in range(n-m+1):\n",
    "    left = i\n",
    "    right = 0\n",
    "    while right < m and haystack[left] == needle[right]:\n",
    "      left += 1\n",
    "      right += 1\n",
    "    if right == m:\n",
    "      return i\n",
    "  return -1\n",
    "haystack = \"sadbutsad\"\n",
    "needle = \"sad\"\n",
    "strStr(haystack,needle)"
   ]
  }
 ],
 "metadata": {
  "kernelspec": {
   "display_name": "ds",
   "language": "python",
   "name": "python3"
  },
  "language_info": {
   "codemirror_mode": {
    "name": "ipython",
    "version": 3
   },
   "file_extension": ".py",
   "mimetype": "text/x-python",
   "name": "python",
   "nbconvert_exporter": "python",
   "pygments_lexer": "ipython3",
   "version": "3.9.5"
  }
 },
 "nbformat": 4,
 "nbformat_minor": 2
}
