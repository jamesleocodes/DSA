{
 "cells": [
  {
   "cell_type": "markdown",
   "metadata": {},
   "source": [
    "## Squares of a Sorted Array\n",
    "\n",
    "Given an integer array nums sorted in non-decreasing order, return an array of the squares of each number sorted in non-decreasing order."
   ]
  },
  {
   "cell_type": "markdown",
   "metadata": {},
   "source": [
    "#### Example 1:\n",
    "Input: nums = [-4,-1,0,3,10]\n",
    "\n",
    "Output: [0,1,9,16,100]\n",
    "\n",
    "Explanation: After squaring, the array becomes [16,1,0,9,100].\\\n",
    "After sorting, it becomes [0,1,9,16,100]."
   ]
  },
  {
   "cell_type": "markdown",
   "metadata": {},
   "source": [
    "#### Example 2:\n",
    "Input: nums = [-7,-3,2,3,11]\n",
    "\n",
    "Output: [4,9,9,49,121]"
   ]
  },
  {
   "cell_type": "markdown",
   "metadata": {},
   "source": [
    "### Constraints:\n",
    "\n",
    "* 1 <= nums.length <= 104\\\n",
    "\n",
    "*  -104 <= nums[i] <= 104\\\n",
    "\n",
    "* nums is sorted in non-decreasing order.\n",
    " \n",
    "\n",
    "Follow up: Squaring each element and sorting the new array is very trivial, could you find an O(n) solution using a different approach?"
   ]
  },
  {
   "cell_type": "markdown",
   "metadata": {},
   "source": [
    "## Problem Statement\n",
    "Given an integer array `nums` sorted in non-decreasing order, return an array of the squares of each number sorted in non-decreasing order.\n",
    "\n",
    "## Constraints:\n",
    "* 1 <= nums.length <= 10^4\n",
    "* -10^4 <= nums[i] <= 10^4\n",
    "* nums is sorted in non-decreasing order\n",
    "\n",
    "## Approach\n",
    "There are two main approaches to solve this problem:\n",
    "\n",
    "1. **Naive Approach (O(n log n))**:\n",
    "   - Square each element in the array\n",
    "   - Sort the resulting array\n",
    "   - This approach is straightforward but not optimal\n",
    "\n",
    "2. **Two Pointer Approach (O(n))**:\n",
    "   - Since the input array is sorted, we can use two pointers\n",
    "   - One pointer at the start (for negative numbers)\n",
    "   - One pointer at the end (for positive numbers)\n",
    "   - Compare absolute values and place the larger square in the result array\n",
    "   - Move pointers accordingly\n",
    "   - This approach is optimal with O(n) time complexity and O(n) space complexity"
   ]
  },
  {
   "cell_type": "code",
   "execution_count": 20,
   "metadata": {},
   "outputs": [],
   "source": [
    "def sortedSquares(nums):\n",
    "  # sort the arrary in ascending order\n",
    "  nums.sort(key=abs)\n",
    "  # initialize two pointers\n",
    "  left, right = 0, len(nums) -1\n",
    "  # create the holder for the result\n",
    "  result = [0] * len(nums)\n",
    "  # start filling from the end of result array\n",
    "  index = len(nums) -1 \n",
    "\n",
    "  while left <= right:\n",
    "    # Compare the absoulte value\n",
    "    if abs(nums[left]) > abs(nums[right]):\n",
    "      result[index] = nums[left] *  nums[left]\n",
    "      left += 1\n",
    "    else:\n",
    "      result[index] = nums[right] * nums[right]\n",
    "      right -= 1\n",
    "    index -= 1\n",
    "  return result\n"
   ]
  },
  {
   "cell_type": "code",
   "execution_count": 21,
   "metadata": {},
   "outputs": [
    {
     "data": {
      "text/plain": [
       "[9, 9, 49, 121, 225]"
      ]
     },
     "execution_count": 21,
     "metadata": {},
     "output_type": "execute_result"
    }
   ],
   "source": [
    "#nums = [-4,-1,0,3,10]\n",
    "nums = [-11,-3,15,3,7]\n",
    "sortedSquares(nums)"
   ]
  }
 ],
 "metadata": {
  "kernelspec": {
   "display_name": "ds",
   "language": "python",
   "name": "python3"
  },
  "language_info": {
   "codemirror_mode": {
    "name": "ipython",
    "version": 3
   },
   "file_extension": ".py",
   "mimetype": "text/x-python",
   "name": "python",
   "nbconvert_exporter": "python",
   "pygments_lexer": "ipython3",
   "version": "3.9.5"
  }
 },
 "nbformat": 4,
 "nbformat_minor": 2
}
