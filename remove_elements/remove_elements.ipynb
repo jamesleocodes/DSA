{
 "cells": [
  {
   "cell_type": "markdown",
   "metadata": {},
   "source": [
    "### Remove elements(no. 27 leetcode problem )\n",
    "\n",
    "Given an integer array `nums` and an integer `val`, remove all occurrences of `val` in `nums` **in-place**. The order of the elements may be changed. Then return the number of elements in `nums` which are not equal to `val`.\n",
    "\n",
    "### Requirements:\n",
    "- Change the array `nums` so that the first `k` elements contain values **not** equal to `val`.\n",
    "- The remaining elements of `nums` do not matter.\n",
    "- Return `k`, the count of elements that are **not** `val`.\n"
   ]
  },
  {
   "cell_type": "markdown",
   "metadata": {},
   "source": [
    "#### Example Usage\n",
    "```python\n",
    "# Example 1\n",
    "nums = [3,2,2,3] # given\n",
    "val = 3 # given\n",
    "Output: 2  # nums = [2,2,_,_]\n",
    "Explanation: Your function should return k = 2, with the first two elements of nums being 2.\n",
    "It does not matter what you leave beyond the returned k (hence they are underscores).\n",
    "\n",
    "# Example 2\n",
    "nums = [0,1,2,2,3,0,4,2]\n",
    "val = 2\n",
    "Output: 5  # nums = [0,1,4,0,3,_,_,_]\n",
    "Explanation: Your function should return k = 5, with the first five elements of nums containing 0, 0, 1, 3, and 4.\n",
    "Note that the five elements can be returned in any order.\n",
    "It does not matter what you leave beyond the returned k (hence they are underscores)."
   ]
  },
  {
   "cell_type": "markdown",
   "metadata": {},
   "source": [
    "#### Constraints:\n",
    "\n",
    "* `0 <= nums.length <= 100`\n",
    "  \n",
    "* `0 <= nums[i] <= 50`\n",
    "\n",
    "* `0 <= val <= 100`"
   ]
  },
  {
   "cell_type": "code",
   "execution_count": 13,
   "metadata": {},
   "outputs": [
    {
     "data": {
      "text/plain": [
       "5"
      ]
     },
     "execution_count": 13,
     "metadata": {},
     "output_type": "execute_result"
    }
   ],
   "source": [
    "# Detail approach can be found on readme file of this folder\n",
    "\n",
    "def removeElement(nums, val):\n",
    "    # Handle empty array case\n",
    "    if not nums:\n",
    "        return 0\n",
    "        \n",
    "    left, right = 0, len(nums) - 1\n",
    "    \n",
    "    while left <= right:\n",
    "        if nums[left] == val:\n",
    "            # Swap with right element\n",
    "            nums[left] = nums[right]\n",
    "            right -= 1\n",
    "        else:\n",
    "            left += 1\n",
    "    \n",
    "    return left\n",
    "\n",
    "nums = [0,1,2,2,3,0,4,2]\n",
    "val = 2\n",
    "removeElement(nums,val)\n"
   ]
  }
 ],
 "metadata": {
  "kernelspec": {
   "display_name": "ds",
   "language": "python",
   "name": "python3"
  },
  "language_info": {
   "codemirror_mode": {
    "name": "ipython",
    "version": 3
   },
   "file_extension": ".py",
   "mimetype": "text/x-python",
   "name": "python",
   "nbconvert_exporter": "python",
   "pygments_lexer": "ipython3",
   "version": "3.9.5"
  }
 },
 "nbformat": 4,
 "nbformat_minor": 2
}
